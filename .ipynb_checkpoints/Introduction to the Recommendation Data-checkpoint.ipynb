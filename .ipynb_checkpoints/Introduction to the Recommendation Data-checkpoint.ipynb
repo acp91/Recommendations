{
 "cells": [
  {
   "cell_type": "markdown",
   "metadata": {},
   "source": [
    "### Recommendations with MovieTweetings: Getting to Know The Data\n",
    "\n",
    "Throughout this lesson, you will be working with the [MovieTweetings Data](https://github.com/sidooms/MovieTweetings/tree/master/recsyschallenge2014).\n",
    "\n",
    "**Note:** There are solutions to each of the notebooks available by hitting the orange jupyter logo in the top left of this notebook.  Additionally, you can watch me work through the solutions on the screencasts that follow each workbook. \n",
    "\n",
    "To get started, read in the libraries and the two datasets you will be using throughout the lesson using the code below.\n",
    "\n",
    " "
   ]
  },
  {
   "cell_type": "code",
   "execution_count": 103,
   "metadata": {},
   "outputs": [],
   "source": [
    "import numpy as np\n",
    "import pandas as pd\n",
    "import matplotlib.pyplot as plt\n",
    "import tests as t\n",
    "\n",
    "from datetime import datetime\n",
    "\n",
    "%matplotlib inline\n",
    "\n",
    "\n",
    "# Read in the MovieTweetings dataset originally taken from https://github.com/sidooms/MovieTweetings/tree/master/latest\n",
    "movies = pd.read_csv('movies.dat', delimiter='::', header=None, names=['movie_id', 'movie', 'genre'], dtype={'movie_id': object}, engine='python')\n",
    "reviews = pd.read_csv('ratings.dat', delimiter='::', header=None, names=['user_id', 'movie_id', 'rating', 'timestamp'], dtype={'movie_id': object, 'user_id': object, 'timestamp': object}, engine='python')"
   ]
  },
  {
   "cell_type": "markdown",
   "metadata": {},
   "source": [
    "#### 1. Take a Look At The Data \n",
    "\n",
    "Take a look at the data and use your findings to fill in the dictionary below with the correct responses to show your understanding of the data."
   ]
  },
  {
   "cell_type": "code",
   "execution_count": 3,
   "metadata": {
    "scrolled": true
   },
   "outputs": [
    {
     "data": {
      "text/html": [
       "<div>\n",
       "<style scoped>\n",
       "    .dataframe tbody tr th:only-of-type {\n",
       "        vertical-align: middle;\n",
       "    }\n",
       "\n",
       "    .dataframe tbody tr th {\n",
       "        vertical-align: top;\n",
       "    }\n",
       "\n",
       "    .dataframe thead th {\n",
       "        text-align: right;\n",
       "    }\n",
       "</style>\n",
       "<table border=\"1\" class=\"dataframe\">\n",
       "  <thead>\n",
       "    <tr style=\"text-align: right;\">\n",
       "      <th></th>\n",
       "      <th>movie_id</th>\n",
       "      <th>movie</th>\n",
       "      <th>genre</th>\n",
       "    </tr>\n",
       "  </thead>\n",
       "  <tbody>\n",
       "    <tr>\n",
       "      <th>3</th>\n",
       "      <td>25</td>\n",
       "      <td>The Oxford and Cambridge University Boat Race ...</td>\n",
       "      <td>NaN</td>\n",
       "    </tr>\n",
       "    <tr>\n",
       "      <th>8</th>\n",
       "      <td>0443</td>\n",
       "      <td>Hiawatha, the Messiah of the Ojibway (1903)</td>\n",
       "      <td>NaN</td>\n",
       "    </tr>\n",
       "    <tr>\n",
       "      <th>32</th>\n",
       "      <td>0005530</td>\n",
       "      <td>L'héroïsme de Paddy (1915)</td>\n",
       "      <td>NaN</td>\n",
       "    </tr>\n",
       "    <tr>\n",
       "      <th>51</th>\n",
       "      <td>009340</td>\n",
       "      <td>The Man Who Woke Up (1918)</td>\n",
       "      <td>NaN</td>\n",
       "    </tr>\n",
       "    <tr>\n",
       "      <th>80</th>\n",
       "      <td>012844</td>\n",
       "      <td>White and Unmarried (1921)</td>\n",
       "      <td>NaN</td>\n",
       "    </tr>\n",
       "    <tr>\n",
       "      <th>...</th>\n",
       "      <td>...</td>\n",
       "      <td>...</td>\n",
       "      <td>...</td>\n",
       "    </tr>\n",
       "    <tr>\n",
       "      <th>35421</th>\n",
       "      <td>11318648</td>\n",
       "      <td>Rotpunkt (2019)</td>\n",
       "      <td>NaN</td>\n",
       "    </tr>\n",
       "    <tr>\n",
       "      <th>35432</th>\n",
       "      <td>11433098</td>\n",
       "      <td>Rob Delaney: Jackie (2020)</td>\n",
       "      <td>NaN</td>\n",
       "    </tr>\n",
       "    <tr>\n",
       "      <th>35438</th>\n",
       "      <td>11515458</td>\n",
       "      <td>Al-Zaeem (1993)</td>\n",
       "      <td>NaN</td>\n",
       "    </tr>\n",
       "    <tr>\n",
       "      <th>35445</th>\n",
       "      <td>11566166</td>\n",
       "      <td>Mr. Zoo: The Missing VIP (2020)</td>\n",
       "      <td>NaN</td>\n",
       "    </tr>\n",
       "    <tr>\n",
       "      <th>35478</th>\n",
       "      <td>12192654</td>\n",
       "      <td>Planet of the Humans (2019)</td>\n",
       "      <td>NaN</td>\n",
       "    </tr>\n",
       "  </tbody>\n",
       "</table>\n",
       "<p>249 rows × 3 columns</p>\n",
       "</div>"
      ],
      "text/plain": [
       "       movie_id                                              movie genre\n",
       "3            25  The Oxford and Cambridge University Boat Race ...   NaN\n",
       "8          0443        Hiawatha, the Messiah of the Ojibway (1903)   NaN\n",
       "32      0005530                         L'héroïsme de Paddy (1915)   NaN\n",
       "51       009340                         The Man Who Woke Up (1918)   NaN\n",
       "80       012844                         White and Unmarried (1921)   NaN\n",
       "...         ...                                                ...   ...\n",
       "35421  11318648                                    Rotpunkt (2019)   NaN\n",
       "35432  11433098                         Rob Delaney: Jackie (2020)   NaN\n",
       "35438  11515458                                    Al-Zaeem (1993)   NaN\n",
       "35445  11566166                    Mr. Zoo: The Missing VIP (2020)   NaN\n",
       "35478  12192654                        Planet of the Humans (2019)   NaN\n",
       "\n",
       "[249 rows x 3 columns]"
      ]
     },
     "execution_count": 3,
     "metadata": {},
     "output_type": "execute_result"
    }
   ],
   "source": [
    "movies[movies.genre.isna()]"
   ]
  },
  {
   "cell_type": "code",
   "execution_count": 83,
   "metadata": {},
   "outputs": [
    {
     "data": {
      "text/html": [
       "<div>\n",
       "<style scoped>\n",
       "    .dataframe tbody tr th:only-of-type {\n",
       "        vertical-align: middle;\n",
       "    }\n",
       "\n",
       "    .dataframe tbody tr th {\n",
       "        vertical-align: top;\n",
       "    }\n",
       "\n",
       "    .dataframe thead th {\n",
       "        text-align: right;\n",
       "    }\n",
       "</style>\n",
       "<table border=\"1\" class=\"dataframe\">\n",
       "  <thead>\n",
       "    <tr style=\"text-align: right;\">\n",
       "      <th></th>\n",
       "      <th>movie_id</th>\n",
       "      <th>movie</th>\n",
       "      <th>genre</th>\n",
       "    </tr>\n",
       "  </thead>\n",
       "  <tbody>\n",
       "    <tr>\n",
       "      <th>0</th>\n",
       "      <td>0000008</td>\n",
       "      <td>Edison Kinetoscopic Record of a Sneeze (1894)</td>\n",
       "      <td>Documentary|Short</td>\n",
       "    </tr>\n",
       "    <tr>\n",
       "      <th>1</th>\n",
       "      <td>0000010</td>\n",
       "      <td>La sortie des usines Lumière (1895)</td>\n",
       "      <td>Documentary|Short</td>\n",
       "    </tr>\n",
       "    <tr>\n",
       "      <th>2</th>\n",
       "      <td>0000012</td>\n",
       "      <td>The Arrival of a Train (1896)</td>\n",
       "      <td>Documentary|Short</td>\n",
       "    </tr>\n",
       "    <tr>\n",
       "      <th>3</th>\n",
       "      <td>25</td>\n",
       "      <td>The Oxford and Cambridge University Boat Race ...</td>\n",
       "      <td>NaN</td>\n",
       "    </tr>\n",
       "    <tr>\n",
       "      <th>4</th>\n",
       "      <td>0000091</td>\n",
       "      <td>Le manoir du diable (1896)</td>\n",
       "      <td>Short|Horror</td>\n",
       "    </tr>\n",
       "  </tbody>\n",
       "</table>\n",
       "</div>"
      ],
      "text/plain": [
       "  movie_id                                              movie  \\\n",
       "0  0000008      Edison Kinetoscopic Record of a Sneeze (1894)   \n",
       "1  0000010                La sortie des usines Lumière (1895)   \n",
       "2  0000012                      The Arrival of a Train (1896)   \n",
       "3       25  The Oxford and Cambridge University Boat Race ...   \n",
       "4  0000091                         Le manoir du diable (1896)   \n",
       "\n",
       "               genre  \n",
       "0  Documentary|Short  \n",
       "1  Documentary|Short  \n",
       "2  Documentary|Short  \n",
       "3                NaN  \n",
       "4       Short|Horror  "
      ]
     },
     "execution_count": 83,
     "metadata": {},
     "output_type": "execute_result"
    }
   ],
   "source": [
    "# cell for work\n",
    "movies.head()"
   ]
  },
  {
   "cell_type": "code",
   "execution_count": 5,
   "metadata": {},
   "outputs": [
    {
     "data": {
      "text/html": [
       "<div>\n",
       "<style scoped>\n",
       "    .dataframe tbody tr th:only-of-type {\n",
       "        vertical-align: middle;\n",
       "    }\n",
       "\n",
       "    .dataframe tbody tr th {\n",
       "        vertical-align: top;\n",
       "    }\n",
       "\n",
       "    .dataframe thead th {\n",
       "        text-align: right;\n",
       "    }\n",
       "</style>\n",
       "<table border=\"1\" class=\"dataframe\">\n",
       "  <thead>\n",
       "    <tr style=\"text-align: right;\">\n",
       "      <th></th>\n",
       "      <th>user_id</th>\n",
       "      <th>movie_id</th>\n",
       "      <th>rating</th>\n",
       "      <th>timestamp</th>\n",
       "    </tr>\n",
       "  </thead>\n",
       "  <tbody>\n",
       "    <tr>\n",
       "      <th>0</th>\n",
       "      <td>1</td>\n",
       "      <td>0114508</td>\n",
       "      <td>8</td>\n",
       "      <td>1381006850</td>\n",
       "    </tr>\n",
       "    <tr>\n",
       "      <th>1</th>\n",
       "      <td>2</td>\n",
       "      <td>0208092</td>\n",
       "      <td>5</td>\n",
       "      <td>1586466072</td>\n",
       "    </tr>\n",
       "    <tr>\n",
       "      <th>2</th>\n",
       "      <td>2</td>\n",
       "      <td>0358273</td>\n",
       "      <td>9</td>\n",
       "      <td>1579057827</td>\n",
       "    </tr>\n",
       "    <tr>\n",
       "      <th>3</th>\n",
       "      <td>2</td>\n",
       "      <td>10039344</td>\n",
       "      <td>5</td>\n",
       "      <td>1578603053</td>\n",
       "    </tr>\n",
       "    <tr>\n",
       "      <th>4</th>\n",
       "      <td>2</td>\n",
       "      <td>6751668</td>\n",
       "      <td>9</td>\n",
       "      <td>1578955697</td>\n",
       "    </tr>\n",
       "  </tbody>\n",
       "</table>\n",
       "</div>"
      ],
      "text/plain": [
       "  user_id  movie_id  rating   timestamp\n",
       "0       1   0114508       8  1381006850\n",
       "1       2   0208092       5  1586466072\n",
       "2       2   0358273       9  1579057827\n",
       "3       2  10039344       5  1578603053\n",
       "4       2   6751668       9  1578955697"
      ]
     },
     "execution_count": 5,
     "metadata": {},
     "output_type": "execute_result"
    }
   ],
   "source": [
    "# cell for work\n",
    "reviews.head()"
   ]
  },
  {
   "cell_type": "code",
   "execution_count": 6,
   "metadata": {},
   "outputs": [
    {
     "data": {
      "text/plain": [
       "(35479, 3)"
      ]
     },
     "execution_count": 6,
     "metadata": {},
     "output_type": "execute_result"
    }
   ],
   "source": [
    "movies.shape"
   ]
  },
  {
   "cell_type": "code",
   "execution_count": 7,
   "metadata": {},
   "outputs": [
    {
     "data": {
      "text/plain": [
       "(863866, 4)"
      ]
     },
     "execution_count": 7,
     "metadata": {},
     "output_type": "execute_result"
    }
   ],
   "source": [
    "reviews.shape"
   ]
  },
  {
   "cell_type": "code",
   "execution_count": 36,
   "metadata": {},
   "outputs": [
    {
     "data": {
      "text/plain": [
       "35479"
      ]
     },
     "execution_count": 36,
     "metadata": {},
     "output_type": "execute_result"
    }
   ],
   "source": [
    "# number of different movies\n",
    "len(movies.movie_id.unique())"
   ]
  },
  {
   "cell_type": "code",
   "execution_count": 9,
   "metadata": {},
   "outputs": [
    {
     "data": {
      "text/plain": [
       "863866"
      ]
     },
     "execution_count": 9,
     "metadata": {},
     "output_type": "execute_result"
    }
   ],
   "source": [
    "# number of differrent ratings\n",
    "reviews.shape[0]"
   ]
  },
  {
   "cell_type": "code",
   "execution_count": 74,
   "metadata": {},
   "outputs": [
    {
     "data": {
      "text/plain": [
       "28"
      ]
     },
     "execution_count": 74,
     "metadata": {},
     "output_type": "execute_result"
    }
   ],
   "source": [
    "# number of different genres\n",
    "different_genres = []\n",
    "for x in movies.genre:\n",
    "    try: different_genres.extend(x.split('|'))\n",
    "    except: pass\n",
    "\n",
    "different_genres = set(different_genres)\n",
    "len(different_genres)"
   ]
  },
  {
   "cell_type": "code",
   "execution_count": 75,
   "metadata": {},
   "outputs": [
    {
     "data": {
      "text/plain": [
       "2737"
      ]
     },
     "execution_count": 75,
     "metadata": {},
     "output_type": "execute_result"
    }
   ],
   "source": [
    "# number of unique movies\n",
    "len(movies.genre.unique())"
   ]
  },
  {
   "cell_type": "code",
   "execution_count": 11,
   "metadata": {},
   "outputs": [
    {
     "data": {
      "text/plain": [
       "67353"
      ]
     },
     "execution_count": 11,
     "metadata": {},
     "output_type": "execute_result"
    }
   ],
   "source": [
    "# number of unique users\n",
    "len(reviews.user_id.unique())"
   ]
  },
  {
   "cell_type": "code",
   "execution_count": 12,
   "metadata": {},
   "outputs": [
    {
     "data": {
      "text/html": [
       "<div>\n",
       "<style scoped>\n",
       "    .dataframe tbody tr th:only-of-type {\n",
       "        vertical-align: middle;\n",
       "    }\n",
       "\n",
       "    .dataframe tbody tr th {\n",
       "        vertical-align: top;\n",
       "    }\n",
       "\n",
       "    .dataframe thead th {\n",
       "        text-align: right;\n",
       "    }\n",
       "</style>\n",
       "<table border=\"1\" class=\"dataframe\">\n",
       "  <thead>\n",
       "    <tr style=\"text-align: right;\">\n",
       "      <th></th>\n",
       "      <th>user_id</th>\n",
       "      <th>movie_id</th>\n",
       "      <th>rating</th>\n",
       "      <th>timestamp</th>\n",
       "    </tr>\n",
       "  </thead>\n",
       "  <tbody>\n",
       "  </tbody>\n",
       "</table>\n",
       "</div>"
      ],
      "text/plain": [
       "Empty DataFrame\n",
       "Columns: [user_id, movie_id, rating, timestamp]\n",
       "Index: []"
      ]
     },
     "execution_count": 12,
     "metadata": {},
     "output_type": "execute_result"
    }
   ],
   "source": [
    "# number of missing ratings\n",
    "reviews[reviews.rating.isna()]"
   ]
  },
  {
   "cell_type": "code",
   "execution_count": 13,
   "metadata": {},
   "outputs": [
    {
     "data": {
      "text/plain": [
       "863866"
      ]
     },
     "execution_count": 13,
     "metadata": {},
     "output_type": "execute_result"
    }
   ],
   "source": [
    "len(reviews.rating)"
   ]
  },
  {
   "cell_type": "code",
   "execution_count": 14,
   "metadata": {},
   "outputs": [
    {
     "data": {
      "text/plain": [
       "7.315877693994207"
      ]
     },
     "execution_count": 14,
     "metadata": {},
     "output_type": "execute_result"
    }
   ],
   "source": [
    "# average rating across movies\n",
    "reviews.rating.mean()"
   ]
  },
  {
   "cell_type": "code",
   "execution_count": 15,
   "metadata": {},
   "outputs": [
    {
     "data": {
      "text/plain": [
       "0"
      ]
     },
     "execution_count": 15,
     "metadata": {},
     "output_type": "execute_result"
    }
   ],
   "source": [
    "# min rating across movies\n",
    "reviews.rating.min()"
   ]
  },
  {
   "cell_type": "code",
   "execution_count": 16,
   "metadata": {},
   "outputs": [
    {
     "data": {
      "text/plain": [
       "10"
      ]
     },
     "execution_count": 16,
     "metadata": {},
     "output_type": "execute_result"
    }
   ],
   "source": [
    "# max rating across movies\n",
    "reviews.rating.max()"
   ]
  },
  {
   "cell_type": "code",
   "execution_count": 17,
   "metadata": {},
   "outputs": [],
   "source": [
    "# Use your findings to match each variable to the correct statement in the dictionary\n",
    "\n",
    "\n",
    "dict_sol1 = {\n",
    "'The number of movies in the dataset':35479,\n",
    "'The number of ratings in the dataset':863866,\n",
    "'The number of different genres':2737,\n",
    "'The number of unique users in the dataset':67353,\n",
    "'The number missing ratings in the reviews dataset':0,\n",
    "'The average rating given across all ratings':7.315877693994207,\n",
    "'The minimum rating given across all ratings':0,\n",
    "'The maximum rating given across all ratings':10\n",
    "}\n",
    "\n",
    "# Originally, I had this to check your solution, but the \n",
    "# links are live and updating.  That didn't end up being\n",
    "# a great idea\n"
   ]
  },
  {
   "cell_type": "code",
   "execution_count": 18,
   "metadata": {},
   "outputs": [
    {
     "data": {
      "text/html": [
       "<div>\n",
       "<style scoped>\n",
       "    .dataframe tbody tr th:only-of-type {\n",
       "        vertical-align: middle;\n",
       "    }\n",
       "\n",
       "    .dataframe tbody tr th {\n",
       "        vertical-align: top;\n",
       "    }\n",
       "\n",
       "    .dataframe thead th {\n",
       "        text-align: right;\n",
       "    }\n",
       "</style>\n",
       "<table border=\"1\" class=\"dataframe\">\n",
       "  <thead>\n",
       "    <tr style=\"text-align: right;\">\n",
       "      <th></th>\n",
       "      <th>user_id</th>\n",
       "      <th>movie_id</th>\n",
       "      <th>rating</th>\n",
       "      <th>timestamp</th>\n",
       "    </tr>\n",
       "  </thead>\n",
       "  <tbody>\n",
       "    <tr>\n",
       "      <th>0</th>\n",
       "      <td>False</td>\n",
       "      <td>False</td>\n",
       "      <td>False</td>\n",
       "      <td>False</td>\n",
       "    </tr>\n",
       "    <tr>\n",
       "      <th>1</th>\n",
       "      <td>False</td>\n",
       "      <td>False</td>\n",
       "      <td>False</td>\n",
       "      <td>False</td>\n",
       "    </tr>\n",
       "    <tr>\n",
       "      <th>2</th>\n",
       "      <td>False</td>\n",
       "      <td>False</td>\n",
       "      <td>False</td>\n",
       "      <td>False</td>\n",
       "    </tr>\n",
       "    <tr>\n",
       "      <th>3</th>\n",
       "      <td>False</td>\n",
       "      <td>False</td>\n",
       "      <td>False</td>\n",
       "      <td>False</td>\n",
       "    </tr>\n",
       "    <tr>\n",
       "      <th>4</th>\n",
       "      <td>False</td>\n",
       "      <td>False</td>\n",
       "      <td>False</td>\n",
       "      <td>False</td>\n",
       "    </tr>\n",
       "    <tr>\n",
       "      <th>...</th>\n",
       "      <td>...</td>\n",
       "      <td>...</td>\n",
       "      <td>...</td>\n",
       "      <td>...</td>\n",
       "    </tr>\n",
       "    <tr>\n",
       "      <th>863861</th>\n",
       "      <td>False</td>\n",
       "      <td>False</td>\n",
       "      <td>False</td>\n",
       "      <td>False</td>\n",
       "    </tr>\n",
       "    <tr>\n",
       "      <th>863862</th>\n",
       "      <td>False</td>\n",
       "      <td>False</td>\n",
       "      <td>False</td>\n",
       "      <td>False</td>\n",
       "    </tr>\n",
       "    <tr>\n",
       "      <th>863863</th>\n",
       "      <td>False</td>\n",
       "      <td>False</td>\n",
       "      <td>False</td>\n",
       "      <td>False</td>\n",
       "    </tr>\n",
       "    <tr>\n",
       "      <th>863864</th>\n",
       "      <td>False</td>\n",
       "      <td>False</td>\n",
       "      <td>False</td>\n",
       "      <td>False</td>\n",
       "    </tr>\n",
       "    <tr>\n",
       "      <th>863865</th>\n",
       "      <td>False</td>\n",
       "      <td>False</td>\n",
       "      <td>False</td>\n",
       "      <td>False</td>\n",
       "    </tr>\n",
       "  </tbody>\n",
       "</table>\n",
       "<p>863866 rows × 4 columns</p>\n",
       "</div>"
      ],
      "text/plain": [
       "        user_id  movie_id  rating  timestamp\n",
       "0         False     False   False      False\n",
       "1         False     False   False      False\n",
       "2         False     False   False      False\n",
       "3         False     False   False      False\n",
       "4         False     False   False      False\n",
       "...         ...       ...     ...        ...\n",
       "863861    False     False   False      False\n",
       "863862    False     False   False      False\n",
       "863863    False     False   False      False\n",
       "863864    False     False   False      False\n",
       "863865    False     False   False      False\n",
       "\n",
       "[863866 rows x 4 columns]"
      ]
     },
     "execution_count": 18,
     "metadata": {},
     "output_type": "execute_result"
    }
   ],
   "source": [
    "reviews.isnull()"
   ]
  },
  {
   "cell_type": "code",
   "execution_count": 19,
   "metadata": {},
   "outputs": [
    {
     "data": {
      "text/plain": [
       "{'The number of movies in the dataset': 35479,\n",
       " 'The number of ratings in the dataset': 863866,\n",
       " 'The number of different genres': 2737,\n",
       " 'The number of unique users in the dataset': 67353,\n",
       " 'The number missing ratings in the reviews dataset': 0,\n",
       " 'The average rating given across all ratings': 7.315877693994207,\n",
       " 'The minimum rating given across all ratings': 0,\n",
       " 'The maximum rating given across all ratings': 10}"
      ]
     },
     "execution_count": 19,
     "metadata": {},
     "output_type": "execute_result"
    }
   ],
   "source": [
    "dict_sol1"
   ]
  },
  {
   "cell_type": "markdown",
   "metadata": {},
   "source": [
    "#### 2. Data Cleaning\n",
    "\n",
    "Next, we need to pull some additional relevant information out of the existing columns. \n",
    "\n",
    "For each of the datasets, there are a couple of cleaning steps we need to take care of:\n",
    "\n",
    "#### Movies\n",
    "* Pull the date from the title and create new column\n",
    "* Dummy the date column with 1's and 0's for each century of a movie (1800's, 1900's, and 2000's)\n",
    "* Dummy column the genre with 1's and 0's\n",
    "\n",
    "#### Reviews\n",
    "* Create a date out of time stamp\n",
    "\n",
    "You can check your results against the header of my solution by running the cell below with the **show_clean_dataframes** function."
   ]
  },
  {
   "cell_type": "code",
   "execution_count": 112,
   "metadata": {},
   "outputs": [],
   "source": [
    "movies_2 = movies.copy()"
   ]
  },
  {
   "cell_type": "code",
   "execution_count": 113,
   "metadata": {},
   "outputs": [],
   "source": [
    "# create a new column date from the movie column\n",
    "movies_2[['movie', 'date']] = movies_2.movie.str.split('(',expand=True)"
   ]
  },
  {
   "cell_type": "code",
   "execution_count": 114,
   "metadata": {},
   "outputs": [],
   "source": [
    "movies_2.date = movies_2.date.map(lambda x: x.rstrip(')'))"
   ]
  },
  {
   "cell_type": "code",
   "execution_count": 115,
   "metadata": {},
   "outputs": [
    {
     "data": {
      "text/html": [
       "<div>\n",
       "<style scoped>\n",
       "    .dataframe tbody tr th:only-of-type {\n",
       "        vertical-align: middle;\n",
       "    }\n",
       "\n",
       "    .dataframe tbody tr th {\n",
       "        vertical-align: top;\n",
       "    }\n",
       "\n",
       "    .dataframe thead th {\n",
       "        text-align: right;\n",
       "    }\n",
       "</style>\n",
       "<table border=\"1\" class=\"dataframe\">\n",
       "  <thead>\n",
       "    <tr style=\"text-align: right;\">\n",
       "      <th></th>\n",
       "      <th>movie_id</th>\n",
       "      <th>movie</th>\n",
       "      <th>genre</th>\n",
       "      <th>date</th>\n",
       "    </tr>\n",
       "  </thead>\n",
       "  <tbody>\n",
       "    <tr>\n",
       "      <th>0</th>\n",
       "      <td>0000008</td>\n",
       "      <td>Edison Kinetoscopic Record of a Sneeze</td>\n",
       "      <td>Documentary|Short</td>\n",
       "      <td>1894</td>\n",
       "    </tr>\n",
       "    <tr>\n",
       "      <th>1</th>\n",
       "      <td>0000010</td>\n",
       "      <td>La sortie des usines Lumière</td>\n",
       "      <td>Documentary|Short</td>\n",
       "      <td>1895</td>\n",
       "    </tr>\n",
       "    <tr>\n",
       "      <th>2</th>\n",
       "      <td>0000012</td>\n",
       "      <td>The Arrival of a Train</td>\n",
       "      <td>Documentary|Short</td>\n",
       "      <td>1896</td>\n",
       "    </tr>\n",
       "    <tr>\n",
       "      <th>3</th>\n",
       "      <td>25</td>\n",
       "      <td>The Oxford and Cambridge University Boat Race</td>\n",
       "      <td>NaN</td>\n",
       "      <td>1895</td>\n",
       "    </tr>\n",
       "    <tr>\n",
       "      <th>4</th>\n",
       "      <td>0000091</td>\n",
       "      <td>Le manoir du diable</td>\n",
       "      <td>Short|Horror</td>\n",
       "      <td>1896</td>\n",
       "    </tr>\n",
       "  </tbody>\n",
       "</table>\n",
       "</div>"
      ],
      "text/plain": [
       "  movie_id                                           movie              genre  \\\n",
       "0  0000008         Edison Kinetoscopic Record of a Sneeze   Documentary|Short   \n",
       "1  0000010                   La sortie des usines Lumière   Documentary|Short   \n",
       "2  0000012                         The Arrival of a Train   Documentary|Short   \n",
       "3       25  The Oxford and Cambridge University Boat Race                 NaN   \n",
       "4  0000091                            Le manoir du diable        Short|Horror   \n",
       "\n",
       "   date  \n",
       "0  1894  \n",
       "1  1895  \n",
       "2  1896  \n",
       "3  1895  \n",
       "4  1896  "
      ]
     },
     "execution_count": 115,
     "metadata": {},
     "output_type": "execute_result"
    }
   ],
   "source": [
    "movies_2.head()"
   ]
  },
  {
   "cell_type": "code",
   "execution_count": 116,
   "metadata": {
    "scrolled": true
   },
   "outputs": [],
   "source": [
    "# Dummy the date column with 1's and 0's for each century of a movie (1800's, 1900's, and 2000's)\n",
    "movies_2.date[movies_2.date.str.startswith('18')]='1800'\n",
    "movies_2.date[movies_2.date.str.startswith('19')]='1900'\n",
    "movies_2.date[movies_2.date.str.startswith('20')]='2000'"
   ]
  },
  {
   "cell_type": "code",
   "execution_count": 117,
   "metadata": {},
   "outputs": [
    {
     "data": {
      "text/html": [
       "<div>\n",
       "<style scoped>\n",
       "    .dataframe tbody tr th:only-of-type {\n",
       "        vertical-align: middle;\n",
       "    }\n",
       "\n",
       "    .dataframe tbody tr th {\n",
       "        vertical-align: top;\n",
       "    }\n",
       "\n",
       "    .dataframe thead th {\n",
       "        text-align: right;\n",
       "    }\n",
       "</style>\n",
       "<table border=\"1\" class=\"dataframe\">\n",
       "  <thead>\n",
       "    <tr style=\"text-align: right;\">\n",
       "      <th></th>\n",
       "      <th>movie_id</th>\n",
       "      <th>movie</th>\n",
       "      <th>genre</th>\n",
       "      <th>date</th>\n",
       "    </tr>\n",
       "  </thead>\n",
       "  <tbody>\n",
       "    <tr>\n",
       "      <th>0</th>\n",
       "      <td>0000008</td>\n",
       "      <td>Edison Kinetoscopic Record of a Sneeze</td>\n",
       "      <td>Documentary|Short</td>\n",
       "      <td>1800</td>\n",
       "    </tr>\n",
       "    <tr>\n",
       "      <th>1</th>\n",
       "      <td>0000010</td>\n",
       "      <td>La sortie des usines Lumière</td>\n",
       "      <td>Documentary|Short</td>\n",
       "      <td>1800</td>\n",
       "    </tr>\n",
       "    <tr>\n",
       "      <th>2</th>\n",
       "      <td>0000012</td>\n",
       "      <td>The Arrival of a Train</td>\n",
       "      <td>Documentary|Short</td>\n",
       "      <td>1800</td>\n",
       "    </tr>\n",
       "    <tr>\n",
       "      <th>3</th>\n",
       "      <td>25</td>\n",
       "      <td>The Oxford and Cambridge University Boat Race</td>\n",
       "      <td>NaN</td>\n",
       "      <td>1800</td>\n",
       "    </tr>\n",
       "    <tr>\n",
       "      <th>4</th>\n",
       "      <td>0000091</td>\n",
       "      <td>Le manoir du diable</td>\n",
       "      <td>Short|Horror</td>\n",
       "      <td>1800</td>\n",
       "    </tr>\n",
       "  </tbody>\n",
       "</table>\n",
       "</div>"
      ],
      "text/plain": [
       "  movie_id                                           movie              genre  \\\n",
       "0  0000008         Edison Kinetoscopic Record of a Sneeze   Documentary|Short   \n",
       "1  0000010                   La sortie des usines Lumière   Documentary|Short   \n",
       "2  0000012                         The Arrival of a Train   Documentary|Short   \n",
       "3       25  The Oxford and Cambridge University Boat Race                 NaN   \n",
       "4  0000091                            Le manoir du diable        Short|Horror   \n",
       "\n",
       "   date  \n",
       "0  1800  \n",
       "1  1800  \n",
       "2  1800  \n",
       "3  1800  \n",
       "4  1800  "
      ]
     },
     "execution_count": 117,
     "metadata": {},
     "output_type": "execute_result"
    }
   ],
   "source": [
    "movies_2.head()"
   ]
  },
  {
   "cell_type": "code",
   "execution_count": 118,
   "metadata": {},
   "outputs": [],
   "source": [
    "# create dummy variables for each century\n",
    "movies_2 = movies_2.join(pd.get_dummies(movies_2.date, dummy_na=True, prefix='d'))"
   ]
  },
  {
   "cell_type": "code",
   "execution_count": 119,
   "metadata": {},
   "outputs": [
    {
     "data": {
      "text/html": [
       "<div>\n",
       "<style scoped>\n",
       "    .dataframe tbody tr th:only-of-type {\n",
       "        vertical-align: middle;\n",
       "    }\n",
       "\n",
       "    .dataframe tbody tr th {\n",
       "        vertical-align: top;\n",
       "    }\n",
       "\n",
       "    .dataframe thead th {\n",
       "        text-align: right;\n",
       "    }\n",
       "</style>\n",
       "<table border=\"1\" class=\"dataframe\">\n",
       "  <thead>\n",
       "    <tr style=\"text-align: right;\">\n",
       "      <th></th>\n",
       "      <th>movie_id</th>\n",
       "      <th>movie</th>\n",
       "      <th>genre</th>\n",
       "      <th>date</th>\n",
       "      <th>d_1800</th>\n",
       "      <th>d_1900</th>\n",
       "      <th>d_2000</th>\n",
       "      <th>d_nan</th>\n",
       "    </tr>\n",
       "  </thead>\n",
       "  <tbody>\n",
       "    <tr>\n",
       "      <th>0</th>\n",
       "      <td>0000008</td>\n",
       "      <td>Edison Kinetoscopic Record of a Sneeze</td>\n",
       "      <td>Documentary|Short</td>\n",
       "      <td>1800</td>\n",
       "      <td>1</td>\n",
       "      <td>0</td>\n",
       "      <td>0</td>\n",
       "      <td>0</td>\n",
       "    </tr>\n",
       "    <tr>\n",
       "      <th>1</th>\n",
       "      <td>0000010</td>\n",
       "      <td>La sortie des usines Lumière</td>\n",
       "      <td>Documentary|Short</td>\n",
       "      <td>1800</td>\n",
       "      <td>1</td>\n",
       "      <td>0</td>\n",
       "      <td>0</td>\n",
       "      <td>0</td>\n",
       "    </tr>\n",
       "    <tr>\n",
       "      <th>2</th>\n",
       "      <td>0000012</td>\n",
       "      <td>The Arrival of a Train</td>\n",
       "      <td>Documentary|Short</td>\n",
       "      <td>1800</td>\n",
       "      <td>1</td>\n",
       "      <td>0</td>\n",
       "      <td>0</td>\n",
       "      <td>0</td>\n",
       "    </tr>\n",
       "    <tr>\n",
       "      <th>3</th>\n",
       "      <td>25</td>\n",
       "      <td>The Oxford and Cambridge University Boat Race</td>\n",
       "      <td>NaN</td>\n",
       "      <td>1800</td>\n",
       "      <td>1</td>\n",
       "      <td>0</td>\n",
       "      <td>0</td>\n",
       "      <td>0</td>\n",
       "    </tr>\n",
       "    <tr>\n",
       "      <th>4</th>\n",
       "      <td>0000091</td>\n",
       "      <td>Le manoir du diable</td>\n",
       "      <td>Short|Horror</td>\n",
       "      <td>1800</td>\n",
       "      <td>1</td>\n",
       "      <td>0</td>\n",
       "      <td>0</td>\n",
       "      <td>0</td>\n",
       "    </tr>\n",
       "  </tbody>\n",
       "</table>\n",
       "</div>"
      ],
      "text/plain": [
       "  movie_id                                           movie              genre  \\\n",
       "0  0000008         Edison Kinetoscopic Record of a Sneeze   Documentary|Short   \n",
       "1  0000010                   La sortie des usines Lumière   Documentary|Short   \n",
       "2  0000012                         The Arrival of a Train   Documentary|Short   \n",
       "3       25  The Oxford and Cambridge University Boat Race                 NaN   \n",
       "4  0000091                            Le manoir du diable        Short|Horror   \n",
       "\n",
       "   date  d_1800  d_1900  d_2000  d_nan  \n",
       "0  1800       1       0       0      0  \n",
       "1  1800       1       0       0      0  \n",
       "2  1800       1       0       0      0  \n",
       "3  1800       1       0       0      0  \n",
       "4  1800       1       0       0      0  "
      ]
     },
     "execution_count": 119,
     "metadata": {},
     "output_type": "execute_result"
    }
   ],
   "source": [
    "movies_2.head()"
   ]
  },
  {
   "cell_type": "code",
   "execution_count": 120,
   "metadata": {},
   "outputs": [],
   "source": [
    "# drop unnecessary column\n",
    "movies_2.drop(columns=['date', 'd_nan'], axis=1, inplace=True)"
   ]
  },
  {
   "cell_type": "code",
   "execution_count": 121,
   "metadata": {},
   "outputs": [
    {
     "data": {
      "text/html": [
       "<div>\n",
       "<style scoped>\n",
       "    .dataframe tbody tr th:only-of-type {\n",
       "        vertical-align: middle;\n",
       "    }\n",
       "\n",
       "    .dataframe tbody tr th {\n",
       "        vertical-align: top;\n",
       "    }\n",
       "\n",
       "    .dataframe thead th {\n",
       "        text-align: right;\n",
       "    }\n",
       "</style>\n",
       "<table border=\"1\" class=\"dataframe\">\n",
       "  <thead>\n",
       "    <tr style=\"text-align: right;\">\n",
       "      <th></th>\n",
       "      <th>movie_id</th>\n",
       "      <th>movie</th>\n",
       "      <th>genre</th>\n",
       "      <th>d_1800</th>\n",
       "      <th>d_1900</th>\n",
       "      <th>d_2000</th>\n",
       "    </tr>\n",
       "  </thead>\n",
       "  <tbody>\n",
       "    <tr>\n",
       "      <th>0</th>\n",
       "      <td>0000008</td>\n",
       "      <td>Edison Kinetoscopic Record of a Sneeze</td>\n",
       "      <td>Documentary|Short</td>\n",
       "      <td>1</td>\n",
       "      <td>0</td>\n",
       "      <td>0</td>\n",
       "    </tr>\n",
       "    <tr>\n",
       "      <th>1</th>\n",
       "      <td>0000010</td>\n",
       "      <td>La sortie des usines Lumière</td>\n",
       "      <td>Documentary|Short</td>\n",
       "      <td>1</td>\n",
       "      <td>0</td>\n",
       "      <td>0</td>\n",
       "    </tr>\n",
       "    <tr>\n",
       "      <th>2</th>\n",
       "      <td>0000012</td>\n",
       "      <td>The Arrival of a Train</td>\n",
       "      <td>Documentary|Short</td>\n",
       "      <td>1</td>\n",
       "      <td>0</td>\n",
       "      <td>0</td>\n",
       "    </tr>\n",
       "    <tr>\n",
       "      <th>3</th>\n",
       "      <td>25</td>\n",
       "      <td>The Oxford and Cambridge University Boat Race</td>\n",
       "      <td>NaN</td>\n",
       "      <td>1</td>\n",
       "      <td>0</td>\n",
       "      <td>0</td>\n",
       "    </tr>\n",
       "    <tr>\n",
       "      <th>4</th>\n",
       "      <td>0000091</td>\n",
       "      <td>Le manoir du diable</td>\n",
       "      <td>Short|Horror</td>\n",
       "      <td>1</td>\n",
       "      <td>0</td>\n",
       "      <td>0</td>\n",
       "    </tr>\n",
       "  </tbody>\n",
       "</table>\n",
       "</div>"
      ],
      "text/plain": [
       "  movie_id                                           movie              genre  \\\n",
       "0  0000008         Edison Kinetoscopic Record of a Sneeze   Documentary|Short   \n",
       "1  0000010                   La sortie des usines Lumière   Documentary|Short   \n",
       "2  0000012                         The Arrival of a Train   Documentary|Short   \n",
       "3       25  The Oxford and Cambridge University Boat Race                 NaN   \n",
       "4  0000091                            Le manoir du diable        Short|Horror   \n",
       "\n",
       "   d_1800  d_1900  d_2000  \n",
       "0       1       0       0  \n",
       "1       1       0       0  \n",
       "2       1       0       0  \n",
       "3       1       0       0  \n",
       "4       1       0       0  "
      ]
     },
     "execution_count": 121,
     "metadata": {},
     "output_type": "execute_result"
    }
   ],
   "source": [
    "movies_2.head()"
   ]
  },
  {
   "cell_type": "code",
   "execution_count": 124,
   "metadata": {},
   "outputs": [],
   "source": [
    "# add new columns, one for each genre based on different_genres\n",
    "for col in different_genres:\n",
    "    movies_2[col] = 0"
   ]
  },
  {
   "cell_type": "code",
   "execution_count": 126,
   "metadata": {},
   "outputs": [
    {
     "data": {
      "text/html": [
       "<div>\n",
       "<style scoped>\n",
       "    .dataframe tbody tr th:only-of-type {\n",
       "        vertical-align: middle;\n",
       "    }\n",
       "\n",
       "    .dataframe tbody tr th {\n",
       "        vertical-align: top;\n",
       "    }\n",
       "\n",
       "    .dataframe thead th {\n",
       "        text-align: right;\n",
       "    }\n",
       "</style>\n",
       "<table border=\"1\" class=\"dataframe\">\n",
       "  <thead>\n",
       "    <tr style=\"text-align: right;\">\n",
       "      <th></th>\n",
       "      <th>movie_id</th>\n",
       "      <th>movie</th>\n",
       "      <th>genre</th>\n",
       "      <th>d_1800</th>\n",
       "      <th>d_1900</th>\n",
       "      <th>d_2000</th>\n",
       "      <th>Adult</th>\n",
       "      <th>History</th>\n",
       "      <th>Reality-TV</th>\n",
       "      <th>Drama</th>\n",
       "      <th>...</th>\n",
       "      <th>War</th>\n",
       "      <th>Western</th>\n",
       "      <th>Adventure</th>\n",
       "      <th>Sport</th>\n",
       "      <th>Short</th>\n",
       "      <th>Animation</th>\n",
       "      <th>Fantasy</th>\n",
       "      <th>Game-Show</th>\n",
       "      <th>Film-Noir</th>\n",
       "      <th>Family</th>\n",
       "    </tr>\n",
       "  </thead>\n",
       "  <tbody>\n",
       "    <tr>\n",
       "      <th>0</th>\n",
       "      <td>0000008</td>\n",
       "      <td>Edison Kinetoscopic Record of a Sneeze</td>\n",
       "      <td>Documentary|Short</td>\n",
       "      <td>1</td>\n",
       "      <td>0</td>\n",
       "      <td>0</td>\n",
       "      <td>0</td>\n",
       "      <td>0</td>\n",
       "      <td>0</td>\n",
       "      <td>0</td>\n",
       "      <td>...</td>\n",
       "      <td>0</td>\n",
       "      <td>0</td>\n",
       "      <td>0</td>\n",
       "      <td>0</td>\n",
       "      <td>0</td>\n",
       "      <td>0</td>\n",
       "      <td>0</td>\n",
       "      <td>0</td>\n",
       "      <td>0</td>\n",
       "      <td>0</td>\n",
       "    </tr>\n",
       "    <tr>\n",
       "      <th>1</th>\n",
       "      <td>0000010</td>\n",
       "      <td>La sortie des usines Lumière</td>\n",
       "      <td>Documentary|Short</td>\n",
       "      <td>1</td>\n",
       "      <td>0</td>\n",
       "      <td>0</td>\n",
       "      <td>0</td>\n",
       "      <td>0</td>\n",
       "      <td>0</td>\n",
       "      <td>0</td>\n",
       "      <td>...</td>\n",
       "      <td>0</td>\n",
       "      <td>0</td>\n",
       "      <td>0</td>\n",
       "      <td>0</td>\n",
       "      <td>0</td>\n",
       "      <td>0</td>\n",
       "      <td>0</td>\n",
       "      <td>0</td>\n",
       "      <td>0</td>\n",
       "      <td>0</td>\n",
       "    </tr>\n",
       "    <tr>\n",
       "      <th>2</th>\n",
       "      <td>0000012</td>\n",
       "      <td>The Arrival of a Train</td>\n",
       "      <td>Documentary|Short</td>\n",
       "      <td>1</td>\n",
       "      <td>0</td>\n",
       "      <td>0</td>\n",
       "      <td>0</td>\n",
       "      <td>0</td>\n",
       "      <td>0</td>\n",
       "      <td>0</td>\n",
       "      <td>...</td>\n",
       "      <td>0</td>\n",
       "      <td>0</td>\n",
       "      <td>0</td>\n",
       "      <td>0</td>\n",
       "      <td>0</td>\n",
       "      <td>0</td>\n",
       "      <td>0</td>\n",
       "      <td>0</td>\n",
       "      <td>0</td>\n",
       "      <td>0</td>\n",
       "    </tr>\n",
       "    <tr>\n",
       "      <th>3</th>\n",
       "      <td>25</td>\n",
       "      <td>The Oxford and Cambridge University Boat Race</td>\n",
       "      <td>NaN</td>\n",
       "      <td>1</td>\n",
       "      <td>0</td>\n",
       "      <td>0</td>\n",
       "      <td>0</td>\n",
       "      <td>0</td>\n",
       "      <td>0</td>\n",
       "      <td>0</td>\n",
       "      <td>...</td>\n",
       "      <td>0</td>\n",
       "      <td>0</td>\n",
       "      <td>0</td>\n",
       "      <td>0</td>\n",
       "      <td>0</td>\n",
       "      <td>0</td>\n",
       "      <td>0</td>\n",
       "      <td>0</td>\n",
       "      <td>0</td>\n",
       "      <td>0</td>\n",
       "    </tr>\n",
       "    <tr>\n",
       "      <th>4</th>\n",
       "      <td>0000091</td>\n",
       "      <td>Le manoir du diable</td>\n",
       "      <td>Short|Horror</td>\n",
       "      <td>1</td>\n",
       "      <td>0</td>\n",
       "      <td>0</td>\n",
       "      <td>0</td>\n",
       "      <td>0</td>\n",
       "      <td>0</td>\n",
       "      <td>0</td>\n",
       "      <td>...</td>\n",
       "      <td>0</td>\n",
       "      <td>0</td>\n",
       "      <td>0</td>\n",
       "      <td>0</td>\n",
       "      <td>0</td>\n",
       "      <td>0</td>\n",
       "      <td>0</td>\n",
       "      <td>0</td>\n",
       "      <td>0</td>\n",
       "      <td>0</td>\n",
       "    </tr>\n",
       "  </tbody>\n",
       "</table>\n",
       "<p>5 rows × 34 columns</p>\n",
       "</div>"
      ],
      "text/plain": [
       "  movie_id                                           movie              genre  \\\n",
       "0  0000008         Edison Kinetoscopic Record of a Sneeze   Documentary|Short   \n",
       "1  0000010                   La sortie des usines Lumière   Documentary|Short   \n",
       "2  0000012                         The Arrival of a Train   Documentary|Short   \n",
       "3       25  The Oxford and Cambridge University Boat Race                 NaN   \n",
       "4  0000091                            Le manoir du diable        Short|Horror   \n",
       "\n",
       "   d_1800  d_1900  d_2000  Adult  History  Reality-TV  Drama  ...  War  \\\n",
       "0       1       0       0      0        0           0      0  ...    0   \n",
       "1       1       0       0      0        0           0      0  ...    0   \n",
       "2       1       0       0      0        0           0      0  ...    0   \n",
       "3       1       0       0      0        0           0      0  ...    0   \n",
       "4       1       0       0      0        0           0      0  ...    0   \n",
       "\n",
       "   Western  Adventure  Sport  Short  Animation  Fantasy  Game-Show  Film-Noir  \\\n",
       "0        0          0      0      0          0        0          0          0   \n",
       "1        0          0      0      0          0        0          0          0   \n",
       "2        0          0      0      0          0        0          0          0   \n",
       "3        0          0      0      0          0        0          0          0   \n",
       "4        0          0      0      0          0        0          0          0   \n",
       "\n",
       "   Family  \n",
       "0       0  \n",
       "1       0  \n",
       "2       0  \n",
       "3       0  \n",
       "4       0  \n",
       "\n",
       "[5 rows x 34 columns]"
      ]
     },
     "execution_count": 126,
     "metadata": {},
     "output_type": "execute_result"
    }
   ],
   "source": [
    "# check the new dataframe\n",
    "movies_2.head()"
   ]
  },
  {
   "cell_type": "markdown",
   "metadata": {},
   "source": [
    "Look very nice! Amazing job on my side. Now populate columns with 1 if movies contains the genre"
   ]
  },
  {
   "cell_type": "code",
   "execution_count": 148,
   "metadata": {},
   "outputs": [
    {
     "data": {
      "text/plain": [
       "Index(['movie_id', 'movie', 'genre', 'd_1800', 'd_1900', 'd_2000', 'Adult',\n",
       "       'History', 'Reality-TV', 'Drama', 'Biography', 'News', 'Documentary',\n",
       "       'Sci-Fi', 'Action', 'Music', 'Mystery', 'Comedy', 'Crime', 'Musical',\n",
       "       'Romance', 'Horror', 'Thriller', 'Talk-Show', 'War', 'Western',\n",
       "       'Adventure', 'Sport', 'Short', 'Animation', 'Fantasy', 'Game-Show',\n",
       "       'Film-Noir', 'Family'],\n",
       "      dtype='object')"
      ]
     },
     "execution_count": 148,
     "metadata": {},
     "output_type": "execute_result"
    }
   ],
   "source": [
    "movies_2.columns"
   ]
  },
  {
   "cell_type": "code",
   "execution_count": 162,
   "metadata": {},
   "outputs": [
    {
     "name": "stderr",
     "output_type": "stream",
     "text": [
      "C:\\Users\\Andre\\Anaconda3\\lib\\site-packages\\ipykernel_launcher.py:5: SettingWithCopyWarning: \n",
      "A value is trying to be set on a copy of a slice from a DataFrame\n",
      "\n",
      "See the caveats in the documentation: https://pandas.pydata.org/pandas-docs/stable/user_guide/indexing.html#returning-a-view-versus-a-copy\n",
      "  \"\"\"\n"
     ]
    }
   ],
   "source": [
    "for i in range(movies_2.shape[0]):\n",
    "    for j in different_genres:\n",
    "        try: \n",
    "            if movies_2['genre'][i].find(j) != -1:\n",
    "                movies_2[j][i] = 1\n",
    "        except: pass"
   ]
  },
  {
   "cell_type": "code",
   "execution_count": 165,
   "metadata": {},
   "outputs": [
    {
     "data": {
      "text/html": [
       "<div>\n",
       "<style scoped>\n",
       "    .dataframe tbody tr th:only-of-type {\n",
       "        vertical-align: middle;\n",
       "    }\n",
       "\n",
       "    .dataframe tbody tr th {\n",
       "        vertical-align: top;\n",
       "    }\n",
       "\n",
       "    .dataframe thead th {\n",
       "        text-align: right;\n",
       "    }\n",
       "</style>\n",
       "<table border=\"1\" class=\"dataframe\">\n",
       "  <thead>\n",
       "    <tr style=\"text-align: right;\">\n",
       "      <th></th>\n",
       "      <th>movie_id</th>\n",
       "      <th>movie</th>\n",
       "      <th>genre</th>\n",
       "      <th>d_1800</th>\n",
       "      <th>d_1900</th>\n",
       "      <th>d_2000</th>\n",
       "      <th>Adult</th>\n",
       "      <th>History</th>\n",
       "      <th>Reality-TV</th>\n",
       "      <th>Drama</th>\n",
       "      <th>...</th>\n",
       "      <th>War</th>\n",
       "      <th>Western</th>\n",
       "      <th>Adventure</th>\n",
       "      <th>Sport</th>\n",
       "      <th>Short</th>\n",
       "      <th>Animation</th>\n",
       "      <th>Fantasy</th>\n",
       "      <th>Game-Show</th>\n",
       "      <th>Film-Noir</th>\n",
       "      <th>Family</th>\n",
       "    </tr>\n",
       "  </thead>\n",
       "  <tbody>\n",
       "    <tr>\n",
       "      <th>0</th>\n",
       "      <td>0000008</td>\n",
       "      <td>Edison Kinetoscopic Record of a Sneeze</td>\n",
       "      <td>Documentary|Short</td>\n",
       "      <td>1</td>\n",
       "      <td>0</td>\n",
       "      <td>0</td>\n",
       "      <td>0</td>\n",
       "      <td>0</td>\n",
       "      <td>0</td>\n",
       "      <td>0</td>\n",
       "      <td>...</td>\n",
       "      <td>0</td>\n",
       "      <td>0</td>\n",
       "      <td>0</td>\n",
       "      <td>0</td>\n",
       "      <td>1</td>\n",
       "      <td>0</td>\n",
       "      <td>0</td>\n",
       "      <td>0</td>\n",
       "      <td>0</td>\n",
       "      <td>0</td>\n",
       "    </tr>\n",
       "    <tr>\n",
       "      <th>1</th>\n",
       "      <td>0000010</td>\n",
       "      <td>La sortie des usines Lumière</td>\n",
       "      <td>Documentary|Short</td>\n",
       "      <td>1</td>\n",
       "      <td>0</td>\n",
       "      <td>0</td>\n",
       "      <td>0</td>\n",
       "      <td>0</td>\n",
       "      <td>0</td>\n",
       "      <td>0</td>\n",
       "      <td>...</td>\n",
       "      <td>0</td>\n",
       "      <td>0</td>\n",
       "      <td>0</td>\n",
       "      <td>0</td>\n",
       "      <td>1</td>\n",
       "      <td>0</td>\n",
       "      <td>0</td>\n",
       "      <td>0</td>\n",
       "      <td>0</td>\n",
       "      <td>0</td>\n",
       "    </tr>\n",
       "    <tr>\n",
       "      <th>2</th>\n",
       "      <td>0000012</td>\n",
       "      <td>The Arrival of a Train</td>\n",
       "      <td>Documentary|Short</td>\n",
       "      <td>1</td>\n",
       "      <td>0</td>\n",
       "      <td>0</td>\n",
       "      <td>0</td>\n",
       "      <td>0</td>\n",
       "      <td>0</td>\n",
       "      <td>0</td>\n",
       "      <td>...</td>\n",
       "      <td>0</td>\n",
       "      <td>0</td>\n",
       "      <td>0</td>\n",
       "      <td>0</td>\n",
       "      <td>1</td>\n",
       "      <td>0</td>\n",
       "      <td>0</td>\n",
       "      <td>0</td>\n",
       "      <td>0</td>\n",
       "      <td>0</td>\n",
       "    </tr>\n",
       "    <tr>\n",
       "      <th>3</th>\n",
       "      <td>25</td>\n",
       "      <td>The Oxford and Cambridge University Boat Race</td>\n",
       "      <td>NaN</td>\n",
       "      <td>1</td>\n",
       "      <td>0</td>\n",
       "      <td>0</td>\n",
       "      <td>0</td>\n",
       "      <td>0</td>\n",
       "      <td>0</td>\n",
       "      <td>0</td>\n",
       "      <td>...</td>\n",
       "      <td>0</td>\n",
       "      <td>0</td>\n",
       "      <td>0</td>\n",
       "      <td>0</td>\n",
       "      <td>0</td>\n",
       "      <td>0</td>\n",
       "      <td>0</td>\n",
       "      <td>0</td>\n",
       "      <td>0</td>\n",
       "      <td>0</td>\n",
       "    </tr>\n",
       "    <tr>\n",
       "      <th>4</th>\n",
       "      <td>0000091</td>\n",
       "      <td>Le manoir du diable</td>\n",
       "      <td>Short|Horror</td>\n",
       "      <td>1</td>\n",
       "      <td>0</td>\n",
       "      <td>0</td>\n",
       "      <td>0</td>\n",
       "      <td>0</td>\n",
       "      <td>0</td>\n",
       "      <td>0</td>\n",
       "      <td>...</td>\n",
       "      <td>0</td>\n",
       "      <td>0</td>\n",
       "      <td>0</td>\n",
       "      <td>0</td>\n",
       "      <td>1</td>\n",
       "      <td>0</td>\n",
       "      <td>0</td>\n",
       "      <td>0</td>\n",
       "      <td>0</td>\n",
       "      <td>0</td>\n",
       "    </tr>\n",
       "  </tbody>\n",
       "</table>\n",
       "<p>5 rows × 34 columns</p>\n",
       "</div>"
      ],
      "text/plain": [
       "  movie_id                                           movie              genre  \\\n",
       "0  0000008         Edison Kinetoscopic Record of a Sneeze   Documentary|Short   \n",
       "1  0000010                   La sortie des usines Lumière   Documentary|Short   \n",
       "2  0000012                         The Arrival of a Train   Documentary|Short   \n",
       "3       25  The Oxford and Cambridge University Boat Race                 NaN   \n",
       "4  0000091                            Le manoir du diable        Short|Horror   \n",
       "\n",
       "   d_1800  d_1900  d_2000  Adult  History  Reality-TV  Drama  ...  War  \\\n",
       "0       1       0       0      0        0           0      0  ...    0   \n",
       "1       1       0       0      0        0           0      0  ...    0   \n",
       "2       1       0       0      0        0           0      0  ...    0   \n",
       "3       1       0       0      0        0           0      0  ...    0   \n",
       "4       1       0       0      0        0           0      0  ...    0   \n",
       "\n",
       "   Western  Adventure  Sport  Short  Animation  Fantasy  Game-Show  Film-Noir  \\\n",
       "0        0          0      0      1          0        0          0          0   \n",
       "1        0          0      0      1          0        0          0          0   \n",
       "2        0          0      0      1          0        0          0          0   \n",
       "3        0          0      0      0          0        0          0          0   \n",
       "4        0          0      0      1          0        0          0          0   \n",
       "\n",
       "   Family  \n",
       "0       0  \n",
       "1       0  \n",
       "2       0  \n",
       "3       0  \n",
       "4       0  \n",
       "\n",
       "[5 rows x 34 columns]"
      ]
     },
     "execution_count": 165,
     "metadata": {},
     "output_type": "execute_result"
    }
   ],
   "source": [
    "movies_2.head()"
   ]
  },
  {
   "cell_type": "code",
   "execution_count": 166,
   "metadata": {},
   "outputs": [],
   "source": [
    "# drop unnecessary column\n",
    "movies_2.drop('genre', axis=1, inplace=True)"
   ]
  },
  {
   "cell_type": "code",
   "execution_count": 167,
   "metadata": {},
   "outputs": [
    {
     "data": {
      "text/html": [
       "<div>\n",
       "<style scoped>\n",
       "    .dataframe tbody tr th:only-of-type {\n",
       "        vertical-align: middle;\n",
       "    }\n",
       "\n",
       "    .dataframe tbody tr th {\n",
       "        vertical-align: top;\n",
       "    }\n",
       "\n",
       "    .dataframe thead th {\n",
       "        text-align: right;\n",
       "    }\n",
       "</style>\n",
       "<table border=\"1\" class=\"dataframe\">\n",
       "  <thead>\n",
       "    <tr style=\"text-align: right;\">\n",
       "      <th></th>\n",
       "      <th>movie_id</th>\n",
       "      <th>movie</th>\n",
       "      <th>d_1800</th>\n",
       "      <th>d_1900</th>\n",
       "      <th>d_2000</th>\n",
       "      <th>Adult</th>\n",
       "      <th>History</th>\n",
       "      <th>Reality-TV</th>\n",
       "      <th>Drama</th>\n",
       "      <th>Biography</th>\n",
       "      <th>...</th>\n",
       "      <th>War</th>\n",
       "      <th>Western</th>\n",
       "      <th>Adventure</th>\n",
       "      <th>Sport</th>\n",
       "      <th>Short</th>\n",
       "      <th>Animation</th>\n",
       "      <th>Fantasy</th>\n",
       "      <th>Game-Show</th>\n",
       "      <th>Film-Noir</th>\n",
       "      <th>Family</th>\n",
       "    </tr>\n",
       "  </thead>\n",
       "  <tbody>\n",
       "    <tr>\n",
       "      <th>0</th>\n",
       "      <td>0000008</td>\n",
       "      <td>Edison Kinetoscopic Record of a Sneeze</td>\n",
       "      <td>1</td>\n",
       "      <td>0</td>\n",
       "      <td>0</td>\n",
       "      <td>0</td>\n",
       "      <td>0</td>\n",
       "      <td>0</td>\n",
       "      <td>0</td>\n",
       "      <td>0</td>\n",
       "      <td>...</td>\n",
       "      <td>0</td>\n",
       "      <td>0</td>\n",
       "      <td>0</td>\n",
       "      <td>0</td>\n",
       "      <td>1</td>\n",
       "      <td>0</td>\n",
       "      <td>0</td>\n",
       "      <td>0</td>\n",
       "      <td>0</td>\n",
       "      <td>0</td>\n",
       "    </tr>\n",
       "    <tr>\n",
       "      <th>1</th>\n",
       "      <td>0000010</td>\n",
       "      <td>La sortie des usines Lumière</td>\n",
       "      <td>1</td>\n",
       "      <td>0</td>\n",
       "      <td>0</td>\n",
       "      <td>0</td>\n",
       "      <td>0</td>\n",
       "      <td>0</td>\n",
       "      <td>0</td>\n",
       "      <td>0</td>\n",
       "      <td>...</td>\n",
       "      <td>0</td>\n",
       "      <td>0</td>\n",
       "      <td>0</td>\n",
       "      <td>0</td>\n",
       "      <td>1</td>\n",
       "      <td>0</td>\n",
       "      <td>0</td>\n",
       "      <td>0</td>\n",
       "      <td>0</td>\n",
       "      <td>0</td>\n",
       "    </tr>\n",
       "    <tr>\n",
       "      <th>2</th>\n",
       "      <td>0000012</td>\n",
       "      <td>The Arrival of a Train</td>\n",
       "      <td>1</td>\n",
       "      <td>0</td>\n",
       "      <td>0</td>\n",
       "      <td>0</td>\n",
       "      <td>0</td>\n",
       "      <td>0</td>\n",
       "      <td>0</td>\n",
       "      <td>0</td>\n",
       "      <td>...</td>\n",
       "      <td>0</td>\n",
       "      <td>0</td>\n",
       "      <td>0</td>\n",
       "      <td>0</td>\n",
       "      <td>1</td>\n",
       "      <td>0</td>\n",
       "      <td>0</td>\n",
       "      <td>0</td>\n",
       "      <td>0</td>\n",
       "      <td>0</td>\n",
       "    </tr>\n",
       "    <tr>\n",
       "      <th>3</th>\n",
       "      <td>25</td>\n",
       "      <td>The Oxford and Cambridge University Boat Race</td>\n",
       "      <td>1</td>\n",
       "      <td>0</td>\n",
       "      <td>0</td>\n",
       "      <td>0</td>\n",
       "      <td>0</td>\n",
       "      <td>0</td>\n",
       "      <td>0</td>\n",
       "      <td>0</td>\n",
       "      <td>...</td>\n",
       "      <td>0</td>\n",
       "      <td>0</td>\n",
       "      <td>0</td>\n",
       "      <td>0</td>\n",
       "      <td>0</td>\n",
       "      <td>0</td>\n",
       "      <td>0</td>\n",
       "      <td>0</td>\n",
       "      <td>0</td>\n",
       "      <td>0</td>\n",
       "    </tr>\n",
       "    <tr>\n",
       "      <th>4</th>\n",
       "      <td>0000091</td>\n",
       "      <td>Le manoir du diable</td>\n",
       "      <td>1</td>\n",
       "      <td>0</td>\n",
       "      <td>0</td>\n",
       "      <td>0</td>\n",
       "      <td>0</td>\n",
       "      <td>0</td>\n",
       "      <td>0</td>\n",
       "      <td>0</td>\n",
       "      <td>...</td>\n",
       "      <td>0</td>\n",
       "      <td>0</td>\n",
       "      <td>0</td>\n",
       "      <td>0</td>\n",
       "      <td>1</td>\n",
       "      <td>0</td>\n",
       "      <td>0</td>\n",
       "      <td>0</td>\n",
       "      <td>0</td>\n",
       "      <td>0</td>\n",
       "    </tr>\n",
       "  </tbody>\n",
       "</table>\n",
       "<p>5 rows × 33 columns</p>\n",
       "</div>"
      ],
      "text/plain": [
       "  movie_id                                           movie  d_1800  d_1900  \\\n",
       "0  0000008         Edison Kinetoscopic Record of a Sneeze        1       0   \n",
       "1  0000010                   La sortie des usines Lumière        1       0   \n",
       "2  0000012                         The Arrival of a Train        1       0   \n",
       "3       25  The Oxford and Cambridge University Boat Race        1       0   \n",
       "4  0000091                            Le manoir du diable        1       0   \n",
       "\n",
       "   d_2000  Adult  History  Reality-TV  Drama  Biography  ...  War  Western  \\\n",
       "0       0      0        0           0      0          0  ...    0        0   \n",
       "1       0      0        0           0      0          0  ...    0        0   \n",
       "2       0      0        0           0      0          0  ...    0        0   \n",
       "3       0      0        0           0      0          0  ...    0        0   \n",
       "4       0      0        0           0      0          0  ...    0        0   \n",
       "\n",
       "   Adventure  Sport  Short  Animation  Fantasy  Game-Show  Film-Noir  Family  \n",
       "0          0      0      1          0        0          0          0       0  \n",
       "1          0      0      1          0        0          0          0       0  \n",
       "2          0      0      1          0        0          0          0       0  \n",
       "3          0      0      0          0        0          0          0       0  \n",
       "4          0      0      1          0        0          0          0       0  \n",
       "\n",
       "[5 rows x 33 columns]"
      ]
     },
     "execution_count": 167,
     "metadata": {},
     "output_type": "execute_result"
    }
   ],
   "source": [
    "movies_2.head()"
   ]
  },
  {
   "cell_type": "markdown",
   "metadata": {},
   "source": [
    "Amazing once again"
   ]
  },
  {
   "cell_type": "code",
   "execution_count": 176,
   "metadata": {},
   "outputs": [
    {
     "data": {
      "text/html": [
       "<div>\n",
       "<style scoped>\n",
       "    .dataframe tbody tr th:only-of-type {\n",
       "        vertical-align: middle;\n",
       "    }\n",
       "\n",
       "    .dataframe tbody tr th {\n",
       "        vertical-align: top;\n",
       "    }\n",
       "\n",
       "    .dataframe thead th {\n",
       "        text-align: right;\n",
       "    }\n",
       "</style>\n",
       "<table border=\"1\" class=\"dataframe\">\n",
       "  <thead>\n",
       "    <tr style=\"text-align: right;\">\n",
       "      <th></th>\n",
       "      <th>user_id</th>\n",
       "      <th>movie_id</th>\n",
       "      <th>rating</th>\n",
       "      <th>timestamp</th>\n",
       "    </tr>\n",
       "  </thead>\n",
       "  <tbody>\n",
       "    <tr>\n",
       "      <th>0</th>\n",
       "      <td>1</td>\n",
       "      <td>0114508</td>\n",
       "      <td>8</td>\n",
       "      <td>1381006850</td>\n",
       "    </tr>\n",
       "    <tr>\n",
       "      <th>1</th>\n",
       "      <td>2</td>\n",
       "      <td>0208092</td>\n",
       "      <td>5</td>\n",
       "      <td>1586466072</td>\n",
       "    </tr>\n",
       "    <tr>\n",
       "      <th>2</th>\n",
       "      <td>2</td>\n",
       "      <td>0358273</td>\n",
       "      <td>9</td>\n",
       "      <td>1579057827</td>\n",
       "    </tr>\n",
       "    <tr>\n",
       "      <th>3</th>\n",
       "      <td>2</td>\n",
       "      <td>10039344</td>\n",
       "      <td>5</td>\n",
       "      <td>1578603053</td>\n",
       "    </tr>\n",
       "    <tr>\n",
       "      <th>4</th>\n",
       "      <td>2</td>\n",
       "      <td>6751668</td>\n",
       "      <td>9</td>\n",
       "      <td>1578955697</td>\n",
       "    </tr>\n",
       "  </tbody>\n",
       "</table>\n",
       "</div>"
      ],
      "text/plain": [
       "  user_id  movie_id  rating   timestamp\n",
       "0       1   0114508       8  1381006850\n",
       "1       2   0208092       5  1586466072\n",
       "2       2   0358273       9  1579057827\n",
       "3       2  10039344       5  1578603053\n",
       "4       2   6751668       9  1578955697"
      ]
     },
     "execution_count": 176,
     "metadata": {},
     "output_type": "execute_result"
    }
   ],
   "source": [
    "# create a data out of timestamp\n",
    "reviews.head()"
   ]
  },
  {
   "cell_type": "code",
   "execution_count": 186,
   "metadata": {},
   "outputs": [
    {
     "data": {
      "text/plain": [
       "1381006850"
      ]
     },
     "execution_count": 186,
     "metadata": {},
     "output_type": "execute_result"
    }
   ],
   "source": [
    "ts = int(reviews['timestamp'][0])\n",
    "ts"
   ]
  },
  {
   "cell_type": "code",
   "execution_count": 192,
   "metadata": {
    "scrolled": true
   },
   "outputs": [
    {
     "name": "stdout",
     "output_type": "stream",
     "text": [
      "2013-10-05 21:00:50\n"
     ]
    }
   ],
   "source": [
    "print(datetime.utcfromtimestamp(ts).strftime('%Y-%m-%d %H:%M:%S'))"
   ]
  },
  {
   "cell_type": "code",
   "execution_count": 193,
   "metadata": {},
   "outputs": [],
   "source": [
    "# creaet function that does the above step, i.e. convert from ts to date\n",
    "def ts_to_date(x):\n",
    "    return datetime.utcfromtimestamp(x).strftime('%Y-%m-%d %H:%M:%S')"
   ]
  },
  {
   "cell_type": "code",
   "execution_count": 194,
   "metadata": {},
   "outputs": [
    {
     "data": {
      "text/plain": [
       "'2013-10-05 21:00:50'"
      ]
     },
     "execution_count": 194,
     "metadata": {},
     "output_type": "execute_result"
    }
   ],
   "source": [
    "# check to see if it works\n",
    "ts_to_date(ts)"
   ]
  },
  {
   "cell_type": "markdown",
   "metadata": {},
   "source": [
    "Boooooooooooooom!"
   ]
  },
  {
   "cell_type": "code",
   "execution_count": 198,
   "metadata": {},
   "outputs": [],
   "source": [
    "# apply it to the new column\n",
    "reviews['date'] = reviews['timestamp'].astype(int).apply(ts_to_date)"
   ]
  },
  {
   "cell_type": "code",
   "execution_count": 199,
   "metadata": {},
   "outputs": [
    {
     "data": {
      "text/html": [
       "<div>\n",
       "<style scoped>\n",
       "    .dataframe tbody tr th:only-of-type {\n",
       "        vertical-align: middle;\n",
       "    }\n",
       "\n",
       "    .dataframe tbody tr th {\n",
       "        vertical-align: top;\n",
       "    }\n",
       "\n",
       "    .dataframe thead th {\n",
       "        text-align: right;\n",
       "    }\n",
       "</style>\n",
       "<table border=\"1\" class=\"dataframe\">\n",
       "  <thead>\n",
       "    <tr style=\"text-align: right;\">\n",
       "      <th></th>\n",
       "      <th>user_id</th>\n",
       "      <th>movie_id</th>\n",
       "      <th>rating</th>\n",
       "      <th>timestamp</th>\n",
       "      <th>date</th>\n",
       "    </tr>\n",
       "  </thead>\n",
       "  <tbody>\n",
       "    <tr>\n",
       "      <th>0</th>\n",
       "      <td>1</td>\n",
       "      <td>0114508</td>\n",
       "      <td>8</td>\n",
       "      <td>1381006850</td>\n",
       "      <td>2013-10-05 21:00:50</td>\n",
       "    </tr>\n",
       "    <tr>\n",
       "      <th>1</th>\n",
       "      <td>2</td>\n",
       "      <td>0208092</td>\n",
       "      <td>5</td>\n",
       "      <td>1586466072</td>\n",
       "      <td>2020-04-09 21:01:12</td>\n",
       "    </tr>\n",
       "    <tr>\n",
       "      <th>2</th>\n",
       "      <td>2</td>\n",
       "      <td>0358273</td>\n",
       "      <td>9</td>\n",
       "      <td>1579057827</td>\n",
       "      <td>2020-01-15 03:10:27</td>\n",
       "    </tr>\n",
       "    <tr>\n",
       "      <th>3</th>\n",
       "      <td>2</td>\n",
       "      <td>10039344</td>\n",
       "      <td>5</td>\n",
       "      <td>1578603053</td>\n",
       "      <td>2020-01-09 20:50:53</td>\n",
       "    </tr>\n",
       "    <tr>\n",
       "      <th>4</th>\n",
       "      <td>2</td>\n",
       "      <td>6751668</td>\n",
       "      <td>9</td>\n",
       "      <td>1578955697</td>\n",
       "      <td>2020-01-13 22:48:17</td>\n",
       "    </tr>\n",
       "  </tbody>\n",
       "</table>\n",
       "</div>"
      ],
      "text/plain": [
       "  user_id  movie_id  rating   timestamp                 date\n",
       "0       1   0114508       8  1381006850  2013-10-05 21:00:50\n",
       "1       2   0208092       5  1586466072  2020-04-09 21:01:12\n",
       "2       2   0358273       9  1579057827  2020-01-15 03:10:27\n",
       "3       2  10039344       5  1578603053  2020-01-09 20:50:53\n",
       "4       2   6751668       9  1578955697  2020-01-13 22:48:17"
      ]
     },
     "execution_count": 199,
     "metadata": {},
     "output_type": "execute_result"
    }
   ],
   "source": [
    "reviews.head()"
   ]
  },
  {
   "cell_type": "markdown",
   "metadata": {},
   "source": [
    "Great performance overall"
   ]
  },
  {
   "cell_type": "code",
   "execution_count": 200,
   "metadata": {
    "scrolled": true
   },
   "outputs": [
    {
     "name": "stdout",
     "output_type": "stream",
     "text": [
      "   Unnamed: 0  user_id  movie_id  rating   timestamp                 date  \\\n",
      "0           0        1     68646      10  1381620027  2013-10-12 23:20:27   \n",
      "1           1        1    113277      10  1379466669  2013-09-18 01:11:09   \n",
      "2           2        2    422720       8  1412178746  2014-10-01 15:52:26   \n",
      "3           3        2    454876       8  1394818630  2014-03-14 17:37:10   \n",
      "4           4        2    790636       7  1389963947  2014-01-17 13:05:47   \n",
      "\n",
      "   month_1  month_2  month_3  month_4  ...  month_9  month_10  month_11  \\\n",
      "0        0        0        0        0  ...        0         1         0   \n",
      "1        0        0        0        0  ...        0         0         0   \n",
      "2        0        0        0        0  ...        0         1         0   \n",
      "3        0        0        0        0  ...        0         0         0   \n",
      "4        0        0        0        0  ...        0         0         0   \n",
      "\n",
      "   month_12  year_2013  year_2014  year_2015  year_2016  year_2017  year_2018  \n",
      "0         0          1          0          0          0          0          0  \n",
      "1         0          1          0          0          0          0          0  \n",
      "2         0          0          1          0          0          0          0  \n",
      "3         0          0          1          0          0          0          0  \n",
      "4         0          0          1          0          0          0          0  \n",
      "\n",
      "[5 rows x 24 columns]\n",
      "   Unnamed: 0  movie_id                                              movie  \\\n",
      "0           0         8      Edison Kinetoscopic Record of a Sneeze (1894)   \n",
      "1           1        10                La sortie des usines Lumière (1895)   \n",
      "2           2        12                      The Arrival of a Train (1896)   \n",
      "3           3        25  The Oxford and Cambridge University Boat Race ...   \n",
      "4           4        91                         Le manoir du diable (1896)   \n",
      "\n",
      "               genre  date  1800's  1900's  2000's  History  News  ...  \\\n",
      "0  Documentary|Short  1894       1       0       0        0     0  ...   \n",
      "1  Documentary|Short  1895       1       0       0        0     0  ...   \n",
      "2  Documentary|Short  1896       1       0       0        0     0  ...   \n",
      "3                NaN  1895       1       0       0        0     0  ...   \n",
      "4       Short|Horror  1896       1       0       0        0     0  ...   \n",
      "\n",
      "   Fantasy  Romance  Game-Show  Action  Documentary  Animation  Comedy  Short  \\\n",
      "0        0        0          0       0            1          0       0      1   \n",
      "1        0        0          0       0            1          0       0      1   \n",
      "2        0        0          0       0            1          0       0      1   \n",
      "3        0        0          0       0            0          0       0      0   \n",
      "4        0        0          0       0            0          0       0      1   \n",
      "\n",
      "   Western  Thriller  \n",
      "0        0         0  \n",
      "1        0         0  \n",
      "2        0         0  \n",
      "3        0         0  \n",
      "4        0         0  \n",
      "\n",
      "[5 rows x 36 columns]\n"
     ]
    }
   ],
   "source": [
    "reviews_new, movies_new = t.show_clean_dataframes()"
   ]
  },
  {
   "cell_type": "code",
   "execution_count": null,
   "metadata": {},
   "outputs": [],
   "source": []
  }
 ],
 "metadata": {
  "kernelspec": {
   "display_name": "Python 3",
   "language": "python",
   "name": "python3"
  },
  "language_info": {
   "codemirror_mode": {
    "name": "ipython",
    "version": 3
   },
   "file_extension": ".py",
   "mimetype": "text/x-python",
   "name": "python",
   "nbconvert_exporter": "python",
   "pygments_lexer": "ipython3",
   "version": "3.7.9"
  }
 },
 "nbformat": 4,
 "nbformat_minor": 2
}
